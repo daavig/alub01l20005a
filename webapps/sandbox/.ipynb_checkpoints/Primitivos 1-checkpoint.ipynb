{
 "cells": [
  {
   "cell_type": "code",
   "execution_count": 3,
   "id": "6bbbf97d",
   "metadata": {},
   "outputs": [],
   "source": [
    "x = 1\n",
    "y = 2.3\n",
    "z = \"Hola q tal\"\n",
    "w = True"
   ]
  },
  {
   "cell_type": "code",
   "execution_count": 4,
   "id": "8cb169e6",
   "metadata": {},
   "outputs": [
    {
     "name": "stdout",
     "output_type": "stream",
     "text": [
      "x es un int\n",
      "y es un float\n",
      "z es un str\n",
      "w es un bool\n"
     ]
    }
   ],
   "source": [
    "print ('x es un', type(x).__name__)\n",
    "print ('y es un', type(y).__name__)\n",
    "print ('z es un', type(z).__name__)\n",
    "print ('w es un', type(w).__name__)"
   ]
  }
 ],
 "metadata": {
  "kernelspec": {
   "display_name": "Python 3 (ipykernel)",
   "language": "python",
   "name": "python3"
  },
  "language_info": {
   "codemirror_mode": {
    "name": "ipython",
    "version": 3
   },
   "file_extension": ".py",
   "mimetype": "text/x-python",
   "name": "python",
   "nbconvert_exporter": "python",
   "pygments_lexer": "ipython3",
   "version": "3.8.10"
  }
 },
 "nbformat": 4,
 "nbformat_minor": 5
}
